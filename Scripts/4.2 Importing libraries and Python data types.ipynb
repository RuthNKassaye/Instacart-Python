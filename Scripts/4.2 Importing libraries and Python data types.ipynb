{
 "cells": [
  {
   "cell_type": "code",
   "execution_count": 1,
   "id": "0575ec96",
   "metadata": {},
   "outputs": [],
   "source": [
    "# Import libraries\n",
    "import pandas as pd\n",
    "import numpy as np\n",
    "import os"
   ]
  },
  {
   "cell_type": "markdown",
   "id": "a69970de",
   "metadata": {},
   "source": [
    "# 02. Data types"
   ]
  },
  {
   "cell_type": "code",
   "execution_count": 2,
   "id": "6cca4531",
   "metadata": {},
   "outputs": [],
   "source": [
    "x=150-50"
   ]
  },
  {
   "cell_type": "code",
   "execution_count": 3,
   "id": "8bce0ac8",
   "metadata": {},
   "outputs": [
    {
     "data": {
      "text/plain": [
       "100"
      ]
     },
     "execution_count": 3,
     "metadata": {},
     "output_type": "execute_result"
    }
   ],
   "source": [
    "x"
   ]
  },
  {
   "cell_type": "code",
   "execution_count": 4,
   "id": "7e147c04",
   "metadata": {},
   "outputs": [
    {
     "name": "stdout",
     "output_type": "stream",
     "text": [
      "100\n"
     ]
    }
   ],
   "source": [
    "#printing x variable\n",
    "print(x)"
   ]
  },
  {
   "cell_type": "code",
   "execution_count": 5,
   "id": "10d2a924",
   "metadata": {},
   "outputs": [
    {
     "name": "stdout",
     "output_type": "stream",
     "text": [
      "100\n"
     ]
    }
   ],
   "source": [
    "print(150-50)"
   ]
  },
  {
   "cell_type": "code",
   "execution_count": 6,
   "id": "fec7c7e3",
   "metadata": {},
   "outputs": [],
   "source": [
    "is_x_equals_to_100 = True"
   ]
  },
  {
   "cell_type": "code",
   "execution_count": 7,
   "id": "5de531c8",
   "metadata": {},
   "outputs": [
    {
     "data": {
      "text/plain": [
       "False"
      ]
     },
     "execution_count": 7,
     "metadata": {},
     "output_type": "execute_result"
    }
   ],
   "source": [
    "x == 90"
   ]
  },
  {
   "cell_type": "code",
   "execution_count": 8,
   "id": "1e7da2e9",
   "metadata": {},
   "outputs": [
    {
     "data": {
      "text/plain": [
       "False"
      ]
     },
     "execution_count": 8,
     "metadata": {},
     "output_type": "execute_result"
    }
   ],
   "source": [
    "x == 10"
   ]
  },
  {
   "cell_type": "code",
   "execution_count": 9,
   "id": "7ea8636b",
   "metadata": {},
   "outputs": [
    {
     "data": {
      "text/plain": [
       "True"
      ]
     },
     "execution_count": 9,
     "metadata": {},
     "output_type": "execute_result"
    }
   ],
   "source": [
    "x==100"
   ]
  },
  {
   "cell_type": "code",
   "execution_count": 10,
   "id": "58b77501",
   "metadata": {},
   "outputs": [
    {
     "data": {
      "text/plain": [
       "False"
      ]
     },
     "execution_count": 10,
     "metadata": {},
     "output_type": "execute_result"
    }
   ],
   "source": [
    "x==0"
   ]
  },
  {
   "cell_type": "code",
   "execution_count": 11,
   "id": "4f37f646",
   "metadata": {},
   "outputs": [],
   "source": [
    "greetings='Hi, '"
   ]
  },
  {
   "cell_type": "code",
   "execution_count": 12,
   "id": "5817d225",
   "metadata": {},
   "outputs": [
    {
     "name": "stdout",
     "output_type": "stream",
     "text": [
      "Hi, \n"
     ]
    }
   ],
   "source": [
    "# printing greetings variables \n",
    "print(greetings)"
   ]
  },
  {
   "cell_type": "code",
   "execution_count": 13,
   "id": "e7b27ea6",
   "metadata": {},
   "outputs": [],
   "source": [
    "name ='my name is Ruth. '"
   ]
  },
  {
   "cell_type": "code",
   "execution_count": 14,
   "id": "d950a205",
   "metadata": {},
   "outputs": [
    {
     "name": "stdout",
     "output_type": "stream",
     "text": [
      "Hi, my name is Ruth. \n"
     ]
    }
   ],
   "source": [
    "# printing greetings and name variables \n",
    "print (greetings+name)"
   ]
  },
  {
   "cell_type": "code",
   "execution_count": 15,
   "id": "531af0a8",
   "metadata": {},
   "outputs": [],
   "source": [
    "name='Suzan'"
   ]
  },
  {
   "cell_type": "code",
   "execution_count": 16,
   "id": "033de194",
   "metadata": {},
   "outputs": [],
   "source": [
    "continent ='I am from Africa. '"
   ]
  },
  {
   "cell_type": "code",
   "execution_count": 17,
   "id": "bccfd747",
   "metadata": {},
   "outputs": [],
   "source": [
    "country = 'My country is Ethiopia.'"
   ]
  },
  {
   "cell_type": "code",
   "execution_count": 18,
   "id": "77d236c9",
   "metadata": {},
   "outputs": [
    {
     "name": "stdout",
     "output_type": "stream",
     "text": [
      "I am from Africa. My country is Ethiopia.\n"
     ]
    }
   ],
   "source": [
    "# printing continent and country variables\n",
    "print(continent+country)"
   ]
  },
  {
   "cell_type": "code",
   "execution_count": 19,
   "id": "4d0ccf60",
   "metadata": {},
   "outputs": [
    {
     "name": "stdout",
     "output_type": "stream",
     "text": [
      "Hi, SuzanI am from Africa. My country is Ethiopia.\n"
     ]
    }
   ],
   "source": [
    "# printing greetings, name, continent, and country variables \n",
    "print (greetings+name+continent+country)"
   ]
  },
  {
   "cell_type": "code",
   "execution_count": 22,
   "id": "eb3657f6",
   "metadata": {},
   "outputs": [],
   "source": [
    "z=10.2"
   ]
  },
  {
   "cell_type": "code",
   "execution_count": 21,
   "id": "d1fe888f",
   "metadata": {},
   "outputs": [],
   "source": [
    "y=5.2"
   ]
  },
  {
   "cell_type": "code",
   "execution_count": 24,
   "id": "9ac7fa3e",
   "metadata": {},
   "outputs": [
    {
     "name": "stdout",
     "output_type": "stream",
     "text": [
      "1.9615384615384612\n"
     ]
    }
   ],
   "source": [
    "# dividing z by y\n",
    "print(z/y)"
   ]
  },
  {
   "cell_type": "code",
   "execution_count": 25,
   "id": "c2c71813",
   "metadata": {},
   "outputs": [],
   "source": [
    "n=50"
   ]
  },
  {
   "cell_type": "code",
   "execution_count": 26,
   "id": "c22db73b",
   "metadata": {},
   "outputs": [],
   "source": [
    "m=50"
   ]
  },
  {
   "cell_type": "code",
   "execution_count": 27,
   "id": "89b81946",
   "metadata": {},
   "outputs": [
    {
     "name": "stdout",
     "output_type": "stream",
     "text": [
      "100\n"
     ]
    }
   ],
   "source": [
    "# adding n and m\n",
    "print(n+m)"
   ]
  },
  {
   "cell_type": "code",
   "execution_count": 28,
   "id": "7c4f73b8",
   "metadata": {},
   "outputs": [],
   "source": [
    "c=10"
   ]
  },
  {
   "cell_type": "code",
   "execution_count": 29,
   "id": "7c43889a",
   "metadata": {},
   "outputs": [],
   "source": [
    "d=10"
   ]
  },
  {
   "cell_type": "code",
   "execution_count": 30,
   "id": "b66884d0",
   "metadata": {},
   "outputs": [
    {
     "name": "stdout",
     "output_type": "stream",
     "text": [
      "100\n"
     ]
    }
   ],
   "source": [
    "#multiplying c by d\n",
    "print(c*d)"
   ]
  },
  {
   "cell_type": "code",
   "execution_count": 31,
   "id": "7de5a4b8",
   "metadata": {},
   "outputs": [],
   "source": [
    "e=1000"
   ]
  },
  {
   "cell_type": "code",
   "execution_count": 32,
   "id": "ac9154a0",
   "metadata": {},
   "outputs": [],
   "source": [
    "f=10"
   ]
  },
  {
   "cell_type": "code",
   "execution_count": 44,
   "id": "274eaa18",
   "metadata": {},
   "outputs": [
    {
     "name": "stdout",
     "output_type": "stream",
     "text": [
      "100.0\n"
     ]
    }
   ],
   "source": [
    "# dividing e by f\n",
    "print(e/f)"
   ]
  },
  {
   "cell_type": "code",
   "execution_count": 35,
   "id": "0c423e56",
   "metadata": {},
   "outputs": [],
   "source": [
    "subject = 'greetings'"
   ]
  },
  {
   "cell_type": "code",
   "execution_count": 36,
   "id": "d999b724",
   "metadata": {},
   "outputs": [
    {
     "name": "stdout",
     "output_type": "stream",
     "text": [
      "Hi, Hi, Hi, Hi, Hi, \n"
     ]
    }
   ],
   "source": [
    "# printing hi 5 times \n",
    "print (greetings *5)"
   ]
  },
  {
   "cell_type": "code",
   "execution_count": 39,
   "id": "745bd12c",
   "metadata": {},
   "outputs": [],
   "source": [
    "continent = 'Africa'"
   ]
  },
  {
   "cell_type": "code",
   "execution_count": 42,
   "id": "b2afeb28",
   "metadata": {},
   "outputs": [
    {
     "name": "stdout",
     "output_type": "stream",
     "text": [
      "Africa, Africa, Africa, Africa, Africa, Africa, Africa, Africa, Africa, Africa, Africa, Africa, Africa, Africa, Africa, Africa, Africa, Africa, Africa, Africa, Africa, Africa, Africa, Africa, Africa, Africa, Africa, Africa, Africa, Africa, Africa, Africa, Africa, Africa, Africa, Africa, Africa, Africa, Africa, Africa, Africa, Africa, Africa, Africa, Africa, Africa, Africa, Africa, Africa, Africa, Africa, Africa, Africa, Africa, Africa, Africa, Africa, Africa, Africa, Africa, Africa, Africa, Africa, Africa, Africa, Africa, Africa, Africa, Africa, Africa, Africa, Africa, Africa, Africa, Africa, Africa, Africa, Africa, Africa, Africa, Africa, Africa, Africa, Africa, Africa, Africa, Africa, Africa, Africa, Africa, Africa, Africa, Africa, Africa, Africa, Africa, Africa, Africa, Africa, Africa, \n"
     ]
    }
   ],
   "source": [
    "# printing Africa 100 times \n",
    "print ('Africa, ' * 100)"
   ]
  },
  {
   "cell_type": "code",
   "execution_count": null,
   "id": "76b77abb",
   "metadata": {},
   "outputs": [],
   "source": []
  }
 ],
 "metadata": {
  "kernelspec": {
   "display_name": "Python 3 (ipykernel)",
   "language": "python",
   "name": "python3"
  },
  "language_info": {
   "codemirror_mode": {
    "name": "ipython",
    "version": 3
   },
   "file_extension": ".py",
   "mimetype": "text/x-python",
   "name": "python",
   "nbconvert_exporter": "python",
   "pygments_lexer": "ipython3",
   "version": "3.9.13"
  }
 },
 "nbformat": 4,
 "nbformat_minor": 5
}
